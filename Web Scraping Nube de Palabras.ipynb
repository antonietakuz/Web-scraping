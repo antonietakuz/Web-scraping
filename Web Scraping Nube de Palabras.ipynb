{
 "cells": [
  {
   "cell_type": "code",
   "execution_count": 1,
   "id": "b074b8b5",
   "metadata": {},
   "outputs": [],
   "source": [
    "import numpy as np\n",
    "import pandas as pd\n",
    "\n",
    "from bs4 import BeautifulSoup\n",
    "from requests import get"
   ]
  },
  {
   "cell_type": "code",
   "execution_count": null,
   "id": "f1510855",
   "metadata": {},
   "outputs": [],
   "source": [
    "# Obtiene el contenido de una página\n",
    "url = \"https://www.ole.com.ar/\"\n",
    "\n",
    "pagina = get(url)\n",
    "soup = BeautifulSoup(pagina.content, 'html.parser')\n",
    "\n",
    "soup"
   ]
  },
  {
   "cell_type": "code",
   "execution_count": null,
   "id": "57247cbd",
   "metadata": {},
   "outputs": [],
   "source": [
    "# https://stackoverflow.com/questions/5041008/how-to-find-elements-by-class\n",
    "# https://linuxpip.org/beautifulsoup-find-an-element-by-class/\n",
    "\n",
    "# titulos = soup.find_all('h2', class_=\"entry-title\")\n",
    "\n",
    "titulos = soup.find_all('h2')\n",
    "\n",
    "frases = list()\n",
    "\n",
    "# https://linuxhint.com/beautifulsoup-web-scraping/\n",
    "# A partir de los elementos de una página obtiene solo el texto\n",
    "for item in titulos:\n",
    "    frases.append(item.getText())\n",
    "\n",
    "titulos"
   ]
  },
  {
   "cell_type": "code",
   "execution_count": null,
   "id": "2baee214",
   "metadata": {},
   "outputs": [],
   "source": [
    "import re\n",
    "import string\n",
    "\n",
    "# Muestra simbolos de puntuación y la forma de escaparlos en una expresión regular\n",
    "print(string.punctuation)\n",
    "print(re.escape(string.punctuation))"
   ]
  },
  {
   "cell_type": "code",
   "execution_count": null,
   "id": "a998732c",
   "metadata": {},
   "outputs": [],
   "source": [
    "# Función para limpiar una cadena de caracteres especiales y símbolos de puntuación\n",
    "def limpia_texto(texto):\n",
    "    texto = texto.lower()\n",
    "    texto = re.sub('\\[.*?¿\\]\\%“', ' ', texto)\n",
    "    texto = re.sub('[%s]' % re.escape(string.punctuation), ' ', texto) \n",
    "    texto = re.sub('\\w*\\d\\w*', ' ', texto)\n",
    "    texto = re.sub('[‘’“”…«»¿]', '', texto)\n",
    "    texto = re.sub('\\n', ' ', texto)    \n",
    "    return texto"
   ]
  },
  {
   "cell_type": "code",
   "execution_count": null,
   "id": "32564446",
   "metadata": {},
   "outputs": [],
   "source": [
    "# Limpia todo el texto de la lista\n",
    "for x in range(0, len(frases)):\n",
    "    frases[x] = limpia_texto(frases[x])\n",
    "    \n",
    "frases"
   ]
  },
  {
   "cell_type": "code",
   "execution_count": null,
   "id": "2a0b3594",
   "metadata": {},
   "outputs": [],
   "source": [
    "from sklearn.feature_extraction.text import CountVectorizer\n",
    "import nltk\n",
    "\n",
    "# Obtiene una lista de palabras vacías para descartarlas en un análisis\n",
    "nltk.download('stopwords')\n",
    "lines = nltk.corpus.stopwords.words('spanish')"
   ]
  },
  {
   "cell_type": "code",
   "execution_count": null,
   "id": "bcc2640d",
   "metadata": {},
   "outputs": [],
   "source": [
    "# print(stops)"
   ]
  },
  {
   "cell_type": "code",
   "execution_count": null,
   "id": "40946df3",
   "metadata": {},
   "outputs": [],
   "source": [
    "# cv = CountVectorizer(stop_words=lines)\n",
    "# data_cv = cv.fit_transform(frases)"
   ]
  },
  {
   "cell_type": "code",
   "execution_count": null,
   "id": "88e0041e",
   "metadata": {},
   "outputs": [],
   "source": [
    "# data_dtm = pd.DataFrame(data_cv.toarray(), columns=cv.get_feature_names())"
   ]
  },
  {
   "cell_type": "code",
   "execution_count": null,
   "id": "7ea3ee47",
   "metadata": {},
   "outputs": [],
   "source": [
    "# https://jakevdp.github.io/blog/2017/12/05/installing-python-packages-from-jupyter/\n",
    "# Importa módulos para crear una nube de palabras\n",
    "# import sys\n",
    "# !{sys.executable} -m pip install wordcloud"
   ]
  },
  {
   "cell_type": "code",
   "execution_count": null,
   "id": "aff75015",
   "metadata": {},
   "outputs": [],
   "source": [
    "# https://stackoverflow.com/questions/45588724/generating-word-cloud-for-items-in-a-list-in-python\n",
    "import matplotlib.pyplot as plt\n",
    "from wordcloud import WordCloud\n",
    "\n",
    "# Crea una nube de palabras a partir de nuestra lista, descarta palabras vacías\n",
    "wc = WordCloud(stopwords=lines, background_color=\"white\", colormap=\"Dark2\", max_font_size=150, random_state=42)\n",
    "\n",
    "plt.rcParams['figure.figsize'] = [16,12]\n",
    "\n",
    "wc.generate((\"\").join(frases)) \n",
    "plt.imshow(wc, interpolation=\"bilinear\")  \n",
    "plt.axis(\"off\")\n",
    "\n",
    "plt.show()"
   ]
  },
  {
   "cell_type": "code",
   "execution_count": null,
   "id": "94973cea",
   "metadata": {},
   "outputs": [],
   "source": []
  }
 ],
 "metadata": {
  "kernelspec": {
   "display_name": "Python 3",
   "language": "python",
   "name": "python3"
  },
  "language_info": {
   "codemirror_mode": {
    "name": "ipython",
    "version": 3
   },
   "file_extension": ".py",
   "mimetype": "text/x-python",
   "name": "python",
   "nbconvert_exporter": "python",
   "pygments_lexer": "ipython3",
   "version": "3.11.1"
  }
 },
 "nbformat": 4,
 "nbformat_minor": 5
}
